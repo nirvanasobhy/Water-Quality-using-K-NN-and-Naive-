{
  "metadata": {
    "language_info": {
      "codemirror_mode": {
        "name": "python",
        "version": 3
      },
      "file_extension": ".py",
      "mimetype": "text/x-python",
      "name": "python",
      "nbconvert_exporter": "python",
      "pygments_lexer": "ipython3",
      "version": "3.8"
    },
    "kernelspec": {
      "name": "python",
      "display_name": "Python (Pyodide)",
      "language": "python"
    }
  },
  "nbformat_minor": 4,
  "nbformat": 4,
  "cells": [
    {
      "cell_type": "code",
      "source": "import pandas as pd\nimport numpy as np\nfrom sklearn.model_selection import train_test_split\nfrom sklearn.preprocessing import StandardScaler\nfrom sklearn.neighbors import KNeighborsClassifier\nfrom sklearn.metrics import confusion_matrix\nfrom sklearn.metrics import f1_score\nfrom sklearn.metrics import accuracy_score",
      "metadata": {
        "trusted": true
      },
      "execution_count": 26,
      "outputs": []
    },
    {
      "cell_type": "code",
      "source": "df = pd.read_csv('water_potability.csv')",
      "metadata": {
        "trusted": true
      },
      "execution_count": 136,
      "outputs": []
    },
    {
      "cell_type": "markdown",
      "source": "## Checking for missing data",
      "metadata": {}
    },
    {
      "cell_type": "code",
      "source": "#checking for missing data\ndf.isna().sum()",
      "metadata": {
        "trusted": true
      },
      "execution_count": 137,
      "outputs": [
        {
          "execution_count": 137,
          "output_type": "execute_result",
          "data": {
            "text/plain": "ph                 491\nHardness             0\nSolids               0\nChloramines          0\nSulfate            781\nConductivity         0\nOrganic_carbon       0\nTrihalomethanes    162\nTurbidity            0\nPotability           0\ndtype: int64"
          },
          "metadata": {}
        }
      ]
    },
    {
      "cell_type": "markdown",
      "source": "## Correcting missing data\n",
      "metadata": {}
    },
    {
      "cell_type": "code",
      "source": "#correcting all the missing data, with the mean() values of each column,inplace \ndf['ph']=df['ph'].fillna(df['ph'].mean())\ndf['Sulfate']=df['Sulfate'].fillna(df['Sulfate'].mean())\ndf['Trihalomethanes']=df['Trihalomethanes'].fillna(df['Trihalomethanes'].mean())\ndf.isna().sum()",
      "metadata": {
        "trusted": true
      },
      "execution_count": 138,
      "outputs": [
        {
          "execution_count": 138,
          "output_type": "execute_result",
          "data": {
            "text/plain": "ph                 0\nHardness           0\nSolids             0\nChloramines        0\nSulfate            0\nConductivity       0\nOrganic_carbon     0\nTrihalomethanes    0\nTurbidity          0\nPotability         0\ndtype: int64"
          },
          "metadata": {}
        }
      ]
    },
    {
      "cell_type": "code",
      "source": "df.describe()",
      "metadata": {
        "trusted": true
      },
      "execution_count": 141,
      "outputs": [
        {
          "execution_count": 141,
          "output_type": "execute_result",
          "data": {
            "text/plain": "                ph     Hardness        Solids  Chloramines      Sulfate  \\\ncount  3276.000000  3276.000000   3276.000000  3276.000000  3276.000000   \nmean      7.080795   196.369496  22014.092526     7.122277   333.775777   \nstd       1.469956    32.879761   8768.570828     1.583085    36.142612   \nmin       0.000000    47.432000    320.942611     0.352000   129.000000   \n25%       6.277673   176.850538  15666.690297     6.127421   317.094638   \n50%       7.080795   196.967627  20927.833607     7.130299   333.775777   \n75%       7.870050   216.667456  27332.762127     8.114887   350.385756   \nmax      14.000000   323.124000  61227.196008    13.127000   481.030642   \n\n       Conductivity  Organic_carbon  Trihalomethanes    Turbidity   Potability  \ncount   3276.000000     3276.000000      3276.000000  3276.000000  3276.000000  \nmean     426.205111       14.284970        66.396293     3.966786     0.390110  \nstd       80.824064        3.308162        15.769881     0.780382     0.487849  \nmin      181.483754        2.200000         0.738000     1.450000     0.000000  \n25%      365.734414       12.065801        56.647656     3.439711     0.000000  \n50%      421.884968       14.218338        66.396293     3.955028     0.000000  \n75%      481.792304       16.557652        76.666609     4.500320     1.000000  \nmax      753.342620       28.300000       124.000000     6.739000     1.000000  ",
            "text/html": "<div>\n<style scoped>\n    .dataframe tbody tr th:only-of-type {\n        vertical-align: middle;\n    }\n\n    .dataframe tbody tr th {\n        vertical-align: top;\n    }\n\n    .dataframe thead th {\n        text-align: right;\n    }\n</style>\n<table border=\"1\" class=\"dataframe\">\n  <thead>\n    <tr style=\"text-align: right;\">\n      <th></th>\n      <th>ph</th>\n      <th>Hardness</th>\n      <th>Solids</th>\n      <th>Chloramines</th>\n      <th>Sulfate</th>\n      <th>Conductivity</th>\n      <th>Organic_carbon</th>\n      <th>Trihalomethanes</th>\n      <th>Turbidity</th>\n      <th>Potability</th>\n    </tr>\n  </thead>\n  <tbody>\n    <tr>\n      <th>count</th>\n      <td>3276.000000</td>\n      <td>3276.000000</td>\n      <td>3276.000000</td>\n      <td>3276.000000</td>\n      <td>3276.000000</td>\n      <td>3276.000000</td>\n      <td>3276.000000</td>\n      <td>3276.000000</td>\n      <td>3276.000000</td>\n      <td>3276.000000</td>\n    </tr>\n    <tr>\n      <th>mean</th>\n      <td>7.080795</td>\n      <td>196.369496</td>\n      <td>22014.092526</td>\n      <td>7.122277</td>\n      <td>333.775777</td>\n      <td>426.205111</td>\n      <td>14.284970</td>\n      <td>66.396293</td>\n      <td>3.966786</td>\n      <td>0.390110</td>\n    </tr>\n    <tr>\n      <th>std</th>\n      <td>1.469956</td>\n      <td>32.879761</td>\n      <td>8768.570828</td>\n      <td>1.583085</td>\n      <td>36.142612</td>\n      <td>80.824064</td>\n      <td>3.308162</td>\n      <td>15.769881</td>\n      <td>0.780382</td>\n      <td>0.487849</td>\n    </tr>\n    <tr>\n      <th>min</th>\n      <td>0.000000</td>\n      <td>47.432000</td>\n      <td>320.942611</td>\n      <td>0.352000</td>\n      <td>129.000000</td>\n      <td>181.483754</td>\n      <td>2.200000</td>\n      <td>0.738000</td>\n      <td>1.450000</td>\n      <td>0.000000</td>\n    </tr>\n    <tr>\n      <th>25%</th>\n      <td>6.277673</td>\n      <td>176.850538</td>\n      <td>15666.690297</td>\n      <td>6.127421</td>\n      <td>317.094638</td>\n      <td>365.734414</td>\n      <td>12.065801</td>\n      <td>56.647656</td>\n      <td>3.439711</td>\n      <td>0.000000</td>\n    </tr>\n    <tr>\n      <th>50%</th>\n      <td>7.080795</td>\n      <td>196.967627</td>\n      <td>20927.833607</td>\n      <td>7.130299</td>\n      <td>333.775777</td>\n      <td>421.884968</td>\n      <td>14.218338</td>\n      <td>66.396293</td>\n      <td>3.955028</td>\n      <td>0.000000</td>\n    </tr>\n    <tr>\n      <th>75%</th>\n      <td>7.870050</td>\n      <td>216.667456</td>\n      <td>27332.762127</td>\n      <td>8.114887</td>\n      <td>350.385756</td>\n      <td>481.792304</td>\n      <td>16.557652</td>\n      <td>76.666609</td>\n      <td>4.500320</td>\n      <td>1.000000</td>\n    </tr>\n    <tr>\n      <th>max</th>\n      <td>14.000000</td>\n      <td>323.124000</td>\n      <td>61227.196008</td>\n      <td>13.127000</td>\n      <td>481.030642</td>\n      <td>753.342620</td>\n      <td>28.300000</td>\n      <td>124.000000</td>\n      <td>6.739000</td>\n      <td>1.000000</td>\n    </tr>\n  </tbody>\n</table>\n</div>"
          },
          "metadata": {}
        }
      ]
    },
    {
      "cell_type": "code",
      "source": "df.info",
      "metadata": {
        "trusted": true
      },
      "execution_count": 233,
      "outputs": [
        {
          "execution_count": 233,
          "output_type": "execute_result",
          "data": {
            "text/plain": "<bound method DataFrame.info of             ph    Hardness        Solids  Chloramines     Sulfate  \\\n0     7.080795  204.890455  20791.318981     7.300212  368.516441   \n1     3.716080  129.422921  18630.057858     6.635246  333.775777   \n2     8.099124  224.236259  19909.541732     9.275884  333.775777   \n3     8.316766  214.373394  22018.417441     8.059332  356.886136   \n4     9.092223  181.101509  17978.986339     6.546600  310.135738   \n...        ...         ...           ...          ...         ...   \n3271  4.668102  193.681735  47580.991603     7.166639  359.948574   \n3272  7.808856  193.553212  17329.802160     8.061362  333.775777   \n3273  9.419510  175.762646  33155.578218     7.350233  333.775777   \n3274  5.126763  230.603758  11983.869376     6.303357  333.775777   \n3275  7.874671  195.102299  17404.177061     7.509306  333.775777   \n\n      Conductivity  Organic_carbon  Trihalomethanes  Turbidity  Potability  \n0       564.308654       10.379783        86.990970   2.963135           0  \n1       592.885359       15.180013        56.329076   4.500656           0  \n2       418.606213       16.868637        66.420093   3.055934           0  \n3       363.266516       18.436524       100.341674   4.628771           0  \n4       398.410813       11.558279        31.997993   4.075075           0  \n...            ...             ...              ...        ...         ...  \n3271    526.424171       13.894419        66.687695   4.435821           1  \n3272    392.449580       19.903225        66.396293   2.798243           1  \n3273    432.044783       11.039070        69.845400   3.298875           1  \n3274    402.883113       11.168946        77.488213   4.708658           1  \n3275    327.459760       16.140368        78.698446   2.309149           1  \n\n[3276 rows x 10 columns]>"
          },
          "metadata": {}
        }
      ]
    },
    {
      "cell_type": "code",
      "source": "",
      "metadata": {
        "trusted": true
      },
      "execution_count": null,
      "outputs": []
    },
    {
      "cell_type": "code",
      "source": "df.shape",
      "metadata": {
        "trusted": true
      },
      "execution_count": 231,
      "outputs": [
        {
          "execution_count": 231,
          "output_type": "execute_result",
          "data": {
            "text/plain": "(3276, 10)"
          },
          "metadata": {}
        }
      ]
    },
    {
      "cell_type": "markdown",
      "source": "## Creating a Class and its Predictors",
      "metadata": {}
    },
    {
      "cell_type": "code",
      "source": "# split dataset\n\nx_water = df.iloc[:, :9].values\ny_water = df.iloc[:,9].values\nx_waterTrain,x_waterTest,y_waterTrain,y_waterTest = train_test_split(x_water,y_water,test_size=0.20,random_state=0)",
      "metadata": {
        "trusted": true
      },
      "execution_count": 232,
      "outputs": []
    },
    {
      "cell_type": "code",
      "source": "print(x_water)",
      "metadata": {
        "trusted": true
      },
      "execution_count": 166,
      "outputs": [
        {
          "name": "stdout",
          "text": "[[7.08079450e+00 2.04890455e+02 2.07913190e+04 ... 1.03797831e+01\n  8.69909705e+01 2.96313538e+00]\n [3.71608008e+00 1.29422921e+02 1.86300579e+04 ... 1.51800131e+01\n  5.63290763e+01 4.50065627e+00]\n [8.09912419e+00 2.24236259e+02 1.99095417e+04 ... 1.68686369e+01\n  6.64200925e+01 3.05593375e+00]\n ...\n [9.41951032e+00 1.75762646e+02 3.31555782e+04 ... 1.10390697e+01\n  6.98454003e+01 3.29887550e+00]\n [5.12676292e+00 2.30603758e+02 1.19838694e+04 ... 1.11689462e+01\n  7.74882131e+01 4.70865847e+00]\n [7.87467136e+00 1.95102299e+02 1.74041771e+04 ... 1.61403676e+01\n  7.86984463e+01 2.30914906e+00]]\n",
          "output_type": "stream"
        }
      ]
    },
    {
      "cell_type": "code",
      "source": "print(y_water)",
      "metadata": {
        "trusted": true
      },
      "execution_count": 167,
      "outputs": [
        {
          "name": "stdout",
          "text": "[0 0 0 ... 1 1 1]\n",
          "output_type": "stream"
        }
      ]
    },
    {
      "cell_type": "code",
      "source": "scaler = StandardScaler()\n\nX_train = scaler.fit_transform(x_waterTrain)\nX_test = scaler.transform(x_waterTest)",
      "metadata": {
        "trusted": true
      },
      "execution_count": 165,
      "outputs": []
    },
    {
      "cell_type": "markdown",
      "source": "***********************************",
      "metadata": {}
    },
    {
      "cell_type": "markdown",
      "source": "# KNearestNeighbours Classifier",
      "metadata": {}
    },
    {
      "cell_type": "code",
      "source": "# Define the model: Init K-NN\nclassifierKNN = KNeighborsClassifier(n_neighbors=18, p=2,metric='euclidean')",
      "metadata": {
        "trusted": true
      },
      "execution_count": 199,
      "outputs": []
    },
    {
      "cell_type": "code",
      "source": "# Fit Model\nclassifierKNN.fit(X_train,y_waterTrain)",
      "metadata": {
        "trusted": true
      },
      "execution_count": 200,
      "outputs": [
        {
          "execution_count": 200,
          "output_type": "execute_result",
          "data": {
            "text/plain": "KNeighborsClassifier(metric='euclidean', n_neighbors=18)",
            "text/html": "<style>#sk-container-id-6 {color: black;background-color: white;}#sk-container-id-6 pre{padding: 0;}#sk-container-id-6 div.sk-toggleable {background-color: white;}#sk-container-id-6 label.sk-toggleable__label {cursor: pointer;display: block;width: 100%;margin-bottom: 0;padding: 0.3em;box-sizing: border-box;text-align: center;}#sk-container-id-6 label.sk-toggleable__label-arrow:before {content: \"▸\";float: left;margin-right: 0.25em;color: #696969;}#sk-container-id-6 label.sk-toggleable__label-arrow:hover:before {color: black;}#sk-container-id-6 div.sk-estimator:hover label.sk-toggleable__label-arrow:before {color: black;}#sk-container-id-6 div.sk-toggleable__content {max-height: 0;max-width: 0;overflow: hidden;text-align: left;background-color: #f0f8ff;}#sk-container-id-6 div.sk-toggleable__content pre {margin: 0.2em;color: black;border-radius: 0.25em;background-color: #f0f8ff;}#sk-container-id-6 input.sk-toggleable__control:checked~div.sk-toggleable__content {max-height: 200px;max-width: 100%;overflow: auto;}#sk-container-id-6 input.sk-toggleable__control:checked~label.sk-toggleable__label-arrow:before {content: \"▾\";}#sk-container-id-6 div.sk-estimator input.sk-toggleable__control:checked~label.sk-toggleable__label {background-color: #d4ebff;}#sk-container-id-6 div.sk-label input.sk-toggleable__control:checked~label.sk-toggleable__label {background-color: #d4ebff;}#sk-container-id-6 input.sk-hidden--visually {border: 0;clip: rect(1px 1px 1px 1px);clip: rect(1px, 1px, 1px, 1px);height: 1px;margin: -1px;overflow: hidden;padding: 0;position: absolute;width: 1px;}#sk-container-id-6 div.sk-estimator {font-family: monospace;background-color: #f0f8ff;border: 1px dotted black;border-radius: 0.25em;box-sizing: border-box;margin-bottom: 0.5em;}#sk-container-id-6 div.sk-estimator:hover {background-color: #d4ebff;}#sk-container-id-6 div.sk-parallel-item::after {content: \"\";width: 100%;border-bottom: 1px solid gray;flex-grow: 1;}#sk-container-id-6 div.sk-label:hover label.sk-toggleable__label {background-color: #d4ebff;}#sk-container-id-6 div.sk-serial::before {content: \"\";position: absolute;border-left: 1px solid gray;box-sizing: border-box;top: 0;bottom: 0;left: 50%;z-index: 0;}#sk-container-id-6 div.sk-serial {display: flex;flex-direction: column;align-items: center;background-color: white;padding-right: 0.2em;padding-left: 0.2em;position: relative;}#sk-container-id-6 div.sk-item {position: relative;z-index: 1;}#sk-container-id-6 div.sk-parallel {display: flex;align-items: stretch;justify-content: center;background-color: white;position: relative;}#sk-container-id-6 div.sk-item::before, #sk-container-id-6 div.sk-parallel-item::before {content: \"\";position: absolute;border-left: 1px solid gray;box-sizing: border-box;top: 0;bottom: 0;left: 50%;z-index: -1;}#sk-container-id-6 div.sk-parallel-item {display: flex;flex-direction: column;z-index: 1;position: relative;background-color: white;}#sk-container-id-6 div.sk-parallel-item:first-child::after {align-self: flex-end;width: 50%;}#sk-container-id-6 div.sk-parallel-item:last-child::after {align-self: flex-start;width: 50%;}#sk-container-id-6 div.sk-parallel-item:only-child::after {width: 0;}#sk-container-id-6 div.sk-dashed-wrapped {border: 1px dashed gray;margin: 0 0.4em 0.5em 0.4em;box-sizing: border-box;padding-bottom: 0.4em;background-color: white;}#sk-container-id-6 div.sk-label label {font-family: monospace;font-weight: bold;display: inline-block;line-height: 1.2em;}#sk-container-id-6 div.sk-label-container {text-align: center;}#sk-container-id-6 div.sk-container {/* jupyter's `normalize.less` sets `[hidden] { display: none; }` but bootstrap.min.css set `[hidden] { display: none !important; }` so we also need the `!important` here to be able to override the default hidden behavior on the sphinx rendered scikit-learn.org. See: https://github.com/scikit-learn/scikit-learn/issues/21755 */display: inline-block !important;position: relative;}#sk-container-id-6 div.sk-text-repr-fallback {display: none;}</style><div id=\"sk-container-id-6\" class=\"sk-top-container\"><div class=\"sk-text-repr-fallback\"><pre>KNeighborsClassifier(metric=&#x27;euclidean&#x27;, n_neighbors=18)</pre><b>In a Jupyter environment, please rerun this cell to show the HTML representation or trust the notebook. <br />On GitHub, the HTML representation is unable to render, please try loading this page with nbviewer.org.</b></div><div class=\"sk-container\" hidden><div class=\"sk-item\"><div class=\"sk-estimator sk-toggleable\"><input class=\"sk-toggleable__control sk-hidden--visually\" id=\"sk-estimator-id-6\" type=\"checkbox\" checked><label for=\"sk-estimator-id-6\" class=\"sk-toggleable__label sk-toggleable__label-arrow\">KNeighborsClassifier</label><div class=\"sk-toggleable__content\"><pre>KNeighborsClassifier(metric=&#x27;euclidean&#x27;, n_neighbors=18)</pre></div></div></div></div></div>"
          },
          "metadata": {}
        }
      ]
    },
    {
      "cell_type": "code",
      "source": "# Predict the test set results\ny_pred = classifierKNN.predict(X_test)",
      "metadata": {
        "trusted": true
      },
      "execution_count": 227,
      "outputs": []
    },
    {
      "cell_type": "markdown",
      "source": "### Confusion matrix",
      "metadata": {}
    },
    {
      "cell_type": "code",
      "source": "# Evaluate Model\ncm = confusion_matrix(y_waterTest, y_pred)\nprint (cm)\nprint(accuracy_score(y_waterTest, y_pred))",
      "metadata": {
        "trusted": true
      },
      "execution_count": 228,
      "outputs": [
        {
          "name": "stdout",
          "text": "[[375  37]\n [191  53]]\n0.6524390243902439\n",
          "output_type": "stream"
        }
      ]
    },
    {
      "cell_type": "code",
      "source": "# Print the Confusion Matrix with k =3 and slice it into four pieces\n\nfrom sklearn.metrics import confusion_matrix\n\ncm = confusion_matrix(y_waterTest, y_pred)\n\nprint('Confusion matrix\\n\\n', cm)\n\nprint('\\nTrue Positives(TP) = ', cm[0,0])\n\nprint('\\nTrue Negatives(TN) = ', cm[1,1])\n\nprint('\\nFalse Positives(FP) = ', cm[0,1])\n\nprint('\\nFalse Negatives(FN) = ', cm[1,0])",
      "metadata": {
        "trusted": true
      },
      "execution_count": 205,
      "outputs": [
        {
          "name": "stdout",
          "text": "Confusion matrix\n\n [[374  38]\n [215  29]]\n\nTrue Positives(TP) =  374\n\nTrue Negatives(TN) =  29\n\nFalse Positives(FP) =  38\n\nFalse Negatives(FN) =  215\n",
          "output_type": "stream"
        }
      ]
    },
    {
      "cell_type": "code",
      "source": "from sklearn.metrics import classification_report\n\nprint(classification_report(y_waterTest, y_pred))",
      "metadata": {
        "trusted": true
      },
      "execution_count": 208,
      "outputs": [
        {
          "name": "stdout",
          "text": "              precision    recall  f1-score   support\n\n           0       0.63      0.91      0.75       412\n           1       0.43      0.12      0.19       244\n\n    accuracy                           0.61       656\n   macro avg       0.53      0.51      0.47       656\nweighted avg       0.56      0.61      0.54       656\n\n",
          "output_type": "stream"
        }
      ]
    },
    {
      "cell_type": "markdown",
      "source": "*******************************************",
      "metadata": {}
    },
    {
      "cell_type": "markdown",
      "source": "# Naive Bayes Classifier",
      "metadata": {}
    },
    {
      "cell_type": "code",
      "source": "#testing GaussianNB() method. Due to naive independence of predictors assumption\nfrom sklearn.naive_bayes import GaussianNB\n\n\nnaive_water_quality = GaussianNB()\n\nnaive_water_quality.fit(X_train,y_waterTrain)\n",
      "metadata": {
        "trusted": true
      },
      "execution_count": 225,
      "outputs": [
        {
          "execution_count": 225,
          "output_type": "execute_result",
          "data": {
            "text/plain": "GaussianNB()",
            "text/html": "<style>#sk-container-id-7 {color: black;background-color: white;}#sk-container-id-7 pre{padding: 0;}#sk-container-id-7 div.sk-toggleable {background-color: white;}#sk-container-id-7 label.sk-toggleable__label {cursor: pointer;display: block;width: 100%;margin-bottom: 0;padding: 0.3em;box-sizing: border-box;text-align: center;}#sk-container-id-7 label.sk-toggleable__label-arrow:before {content: \"▸\";float: left;margin-right: 0.25em;color: #696969;}#sk-container-id-7 label.sk-toggleable__label-arrow:hover:before {color: black;}#sk-container-id-7 div.sk-estimator:hover label.sk-toggleable__label-arrow:before {color: black;}#sk-container-id-7 div.sk-toggleable__content {max-height: 0;max-width: 0;overflow: hidden;text-align: left;background-color: #f0f8ff;}#sk-container-id-7 div.sk-toggleable__content pre {margin: 0.2em;color: black;border-radius: 0.25em;background-color: #f0f8ff;}#sk-container-id-7 input.sk-toggleable__control:checked~div.sk-toggleable__content {max-height: 200px;max-width: 100%;overflow: auto;}#sk-container-id-7 input.sk-toggleable__control:checked~label.sk-toggleable__label-arrow:before {content: \"▾\";}#sk-container-id-7 div.sk-estimator input.sk-toggleable__control:checked~label.sk-toggleable__label {background-color: #d4ebff;}#sk-container-id-7 div.sk-label input.sk-toggleable__control:checked~label.sk-toggleable__label {background-color: #d4ebff;}#sk-container-id-7 input.sk-hidden--visually {border: 0;clip: rect(1px 1px 1px 1px);clip: rect(1px, 1px, 1px, 1px);height: 1px;margin: -1px;overflow: hidden;padding: 0;position: absolute;width: 1px;}#sk-container-id-7 div.sk-estimator {font-family: monospace;background-color: #f0f8ff;border: 1px dotted black;border-radius: 0.25em;box-sizing: border-box;margin-bottom: 0.5em;}#sk-container-id-7 div.sk-estimator:hover {background-color: #d4ebff;}#sk-container-id-7 div.sk-parallel-item::after {content: \"\";width: 100%;border-bottom: 1px solid gray;flex-grow: 1;}#sk-container-id-7 div.sk-label:hover label.sk-toggleable__label {background-color: #d4ebff;}#sk-container-id-7 div.sk-serial::before {content: \"\";position: absolute;border-left: 1px solid gray;box-sizing: border-box;top: 0;bottom: 0;left: 50%;z-index: 0;}#sk-container-id-7 div.sk-serial {display: flex;flex-direction: column;align-items: center;background-color: white;padding-right: 0.2em;padding-left: 0.2em;position: relative;}#sk-container-id-7 div.sk-item {position: relative;z-index: 1;}#sk-container-id-7 div.sk-parallel {display: flex;align-items: stretch;justify-content: center;background-color: white;position: relative;}#sk-container-id-7 div.sk-item::before, #sk-container-id-7 div.sk-parallel-item::before {content: \"\";position: absolute;border-left: 1px solid gray;box-sizing: border-box;top: 0;bottom: 0;left: 50%;z-index: -1;}#sk-container-id-7 div.sk-parallel-item {display: flex;flex-direction: column;z-index: 1;position: relative;background-color: white;}#sk-container-id-7 div.sk-parallel-item:first-child::after {align-self: flex-end;width: 50%;}#sk-container-id-7 div.sk-parallel-item:last-child::after {align-self: flex-start;width: 50%;}#sk-container-id-7 div.sk-parallel-item:only-child::after {width: 0;}#sk-container-id-7 div.sk-dashed-wrapped {border: 1px dashed gray;margin: 0 0.4em 0.5em 0.4em;box-sizing: border-box;padding-bottom: 0.4em;background-color: white;}#sk-container-id-7 div.sk-label label {font-family: monospace;font-weight: bold;display: inline-block;line-height: 1.2em;}#sk-container-id-7 div.sk-label-container {text-align: center;}#sk-container-id-7 div.sk-container {/* jupyter's `normalize.less` sets `[hidden] { display: none; }` but bootstrap.min.css set `[hidden] { display: none !important; }` so we also need the `!important` here to be able to override the default hidden behavior on the sphinx rendered scikit-learn.org. See: https://github.com/scikit-learn/scikit-learn/issues/21755 */display: inline-block !important;position: relative;}#sk-container-id-7 div.sk-text-repr-fallback {display: none;}</style><div id=\"sk-container-id-7\" class=\"sk-top-container\"><div class=\"sk-text-repr-fallback\"><pre>GaussianNB()</pre><b>In a Jupyter environment, please rerun this cell to show the HTML representation or trust the notebook. <br />On GitHub, the HTML representation is unable to render, please try loading this page with nbviewer.org.</b></div><div class=\"sk-container\" hidden><div class=\"sk-item\"><div class=\"sk-estimator sk-toggleable\"><input class=\"sk-toggleable__control sk-hidden--visually\" id=\"sk-estimator-id-7\" type=\"checkbox\" checked><label for=\"sk-estimator-id-7\" class=\"sk-toggleable__label sk-toggleable__label-arrow\">GaussianNB</label><div class=\"sk-toggleable__content\"><pre>GaussianNB()</pre></div></div></div></div></div>"
          },
          "metadata": {}
        }
      ]
    },
    {
      "cell_type": "markdown",
      "source": "### Confusion matrix",
      "metadata": {}
    },
    {
      "cell_type": "code",
      "source": "naive_prediction = naive_water_quality.predict(X_test)\nprint( accuracy_score(y_waterTest,naive_prediction))",
      "metadata": {
        "trusted": true
      },
      "execution_count": 224,
      "outputs": [
        {
          "name": "stdout",
          "text": "0.6173780487804879\n",
          "output_type": "stream"
        }
      ]
    },
    {
      "cell_type": "code",
      "source": "print(classification_report(naive_prediction,y_waterTest))",
      "metadata": {
        "trusted": true
      },
      "execution_count": 226,
      "outputs": [
        {
          "name": "stdout",
          "text": "              precision    recall  f1-score   support\n\n           0       0.86      0.65      0.74       545\n           1       0.21      0.47      0.29       111\n\n    accuracy                           0.62       656\n   macro avg       0.53      0.56      0.52       656\nweighted avg       0.75      0.62      0.66       656\n\n",
          "output_type": "stream"
        }
      ]
    },
    {
      "cell_type": "code",
      "source": "",
      "metadata": {
        "trusted": true
      },
      "execution_count": null,
      "outputs": []
    },
    {
      "cell_type": "code",
      "source": "",
      "metadata": {},
      "execution_count": null,
      "outputs": []
    },
    {
      "cell_type": "code",
      "source": "",
      "metadata": {},
      "execution_count": null,
      "outputs": []
    }
  ]
}